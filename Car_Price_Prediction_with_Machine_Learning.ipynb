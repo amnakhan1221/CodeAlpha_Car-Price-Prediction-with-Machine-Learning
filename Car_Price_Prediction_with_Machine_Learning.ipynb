{
  "nbformat": 4,
  "nbformat_minor": 0,
  "metadata": {
    "colab": {
      "provenance": []
    },
    "kernelspec": {
      "name": "python3",
      "display_name": "Python 3"
    },
    "language_info": {
      "name": "python"
    }
  },
  "cells": [
    {
      "cell_type": "code",
      "source": [
        "# ==============================\n",
        "# Step 1: Import libraries\n",
        "# ==============================\n",
        "import pandas as pd\n",
        "import numpy as np\n",
        "import matplotlib.pyplot as plt\n",
        "import seaborn as sns\n",
        "from sklearn.model_selection import train_test_split\n",
        "from sklearn.preprocessing import LabelEncoder, StandardScaler\n",
        "from sklearn.linear_model import LinearRegression\n",
        "from sklearn.ensemble import RandomForestRegressor\n",
        "from sklearn.metrics import mean_absolute_error, mean_squared_error, r2_score\n",
        "import kagglehub, os, glob\n",
        "\n",
        "# ==============================\n",
        "# Step 2: Download Dataset\n",
        "# ==============================\n",
        "path = kagglehub.dataset_download(\"vijayaadithyanvg/car-price-predictionused-cars\")\n",
        "print(\"Dataset downloaded to:\", path)\n",
        "\n",
        "# List files in dataset folder\n",
        "print(\"Files inside dataset folder:\", os.listdir(path))\n",
        "\n",
        "# Automatically detect CSV file\n",
        "csv_files = glob.glob(path + \"/*.csv\")\n",
        "print(\"CSV files found:\", csv_files)\n",
        "\n",
        "# Load the first CSV file\n",
        "df = pd.read_csv(csv_files[0])\n",
        "print(\"Shape of dataset:\", df.shape)\n",
        "print(df.head())\n"
      ],
      "metadata": {
        "colab": {
          "base_uri": "https://localhost:8080/"
        },
        "id": "K55Fs8auJmC-",
        "outputId": "bfd8f6fa-1728-4b28-a180-cdcb3a3227b1"
      },
      "execution_count": null,
      "outputs": [
        {
          "output_type": "stream",
          "name": "stdout",
          "text": [
            "Dataset downloaded to: /kaggle/input/car-price-predictionused-cars\n",
            "Files inside dataset folder: ['car data.csv']\n",
            "CSV files found: ['/kaggle/input/car-price-predictionused-cars/car data.csv']\n",
            "Shape of dataset: (301, 9)\n",
            "  Car_Name  Year  Selling_Price  Present_Price  Driven_kms Fuel_Type  \\\n",
            "0     ritz  2014           3.35           5.59       27000    Petrol   \n",
            "1      sx4  2013           4.75           9.54       43000    Diesel   \n",
            "2     ciaz  2017           7.25           9.85        6900    Petrol   \n",
            "3  wagon r  2011           2.85           4.15        5200    Petrol   \n",
            "4    swift  2014           4.60           6.87       42450    Diesel   \n",
            "\n",
            "  Selling_type Transmission  Owner  \n",
            "0       Dealer       Manual      0  \n",
            "1       Dealer       Manual      0  \n",
            "2       Dealer       Manual      0  \n",
            "3       Dealer       Manual      0  \n",
            "4       Dealer       Manual      0  \n"
          ]
        }
      ]
    },
    {
      "cell_type": "code",
      "source": [
        "# ==============================\n",
        "# Step 3: Data Cleaning\n",
        "# ==============================\n",
        "# Drop duplicates & missing values\n",
        "df = df.drop_duplicates()\n",
        "df = df.dropna()\n",
        "\n",
        "print(\"After cleaning:\", df.shape)\n",
        "print(df.info())\n"
      ],
      "metadata": {
        "colab": {
          "base_uri": "https://localhost:8080/"
        },
        "id": "K0QKq1QrI9Kl",
        "outputId": "68c49baa-5ce5-453e-96af-fd8c59dd0c71"
      },
      "execution_count": null,
      "outputs": [
        {
          "output_type": "stream",
          "name": "stdout",
          "text": [
            "After cleaning: (299, 9)\n",
            "<class 'pandas.core.frame.DataFrame'>\n",
            "Index: 299 entries, 0 to 300\n",
            "Data columns (total 9 columns):\n",
            " #   Column         Non-Null Count  Dtype  \n",
            "---  ------         --------------  -----  \n",
            " 0   Car_Name       299 non-null    object \n",
            " 1   year           299 non-null    int64  \n",
            " 2   selling_price  299 non-null    float64\n",
            " 3   present_price  299 non-null    float64\n",
            " 4   km_driven      299 non-null    int64  \n",
            " 5   fuel           299 non-null    int64  \n",
            " 6   seller_type    299 non-null    int64  \n",
            " 7   transmission   299 non-null    int64  \n",
            " 8   owner          299 non-null    int64  \n",
            "dtypes: float64(2), int64(6), object(1)\n",
            "memory usage: 23.4+ KB\n",
            "None\n"
          ]
        }
      ]
    },
    {
      "cell_type": "code",
      "source": [
        "print(\"Columns in dataset:\")\n",
        "print(df.columns)\n"
      ],
      "metadata": {
        "colab": {
          "base_uri": "https://localhost:8080/"
        },
        "id": "1SF-Yyh9Kii2",
        "outputId": "e1d280e4-7782-4e29-869b-b900948be091"
      },
      "execution_count": null,
      "outputs": [
        {
          "output_type": "stream",
          "name": "stdout",
          "text": [
            "Columns in dataset:\n",
            "Index(['Car_Name', 'year', 'selling_price', 'present_price', 'km_driven',\n",
            "       'fuel', 'seller_type', 'transmission', 'owner'],\n",
            "      dtype='object')\n"
          ]
        }
      ]
    },
    {
      "cell_type": "code",
      "source": [
        "# ==============================\n",
        "# Step 4: Feature Engineering\n",
        "# ==============================\n",
        "df.rename(columns={\n",
        "    \"Year\": \"year\",\n",
        "    \"Selling_Price\": \"selling_price\",\n",
        "    \"Present_Price\": \"present_price\",\n",
        "    \"Driven_kms\": \"km_driven\",\n",
        "    \"Fuel_Type\": \"fuel\",\n",
        "    \"Selling_type\": \"seller_type\",\n",
        "    \"Transmission\": \"transmission\",\n",
        "    \"Owner\": \"owner\"\n",
        "}, inplace=True)\n",
        "\n",
        "print(\"Renamed columns:\", df.columns)\n"
      ],
      "metadata": {
        "colab": {
          "base_uri": "https://localhost:8080/"
        },
        "id": "mqwWWM8IKrza",
        "outputId": "d867c03e-af25-4ed4-c35f-6a6a6566977d"
      },
      "execution_count": null,
      "outputs": [
        {
          "output_type": "stream",
          "name": "stdout",
          "text": [
            "Renamed columns: Index(['Car_Name', 'year', 'selling_price', 'present_price', 'km_driven',\n",
            "       'fuel', 'seller_type', 'transmission', 'owner'],\n",
            "      dtype='object')\n"
          ]
        }
      ]
    },
    {
      "cell_type": "code",
      "source": [
        "from sklearn.preprocessing import LabelEncoder\n",
        "#Encode categorical columns\n",
        "label_enc = LabelEncoder()\n",
        "for col in ['fuel', 'seller_type', 'transmission', 'owner']:\n",
        "    df[col] = label_enc.fit_transform(df[col])\n",
        "#Select features & target\n",
        "X = df[['year', 'present_price', 'km_driven', 'fuel',\n",
        "        'seller_type', 'transmission', 'owner']]\n",
        "y = df['selling_price']\n",
        "\n",
        "#Scale numerical features\n",
        "from sklearn.preprocessing import StandardScaler\n",
        "scaler = StandardScaler()\n",
        "X_scaled = scaler.fit_transform(X)\n",
        "\n",
        "print(\"Features prepared:\", X.shape)\n"
      ],
      "metadata": {
        "colab": {
          "base_uri": "https://localhost:8080/"
        },
        "id": "C1Ful-2hKxkQ",
        "outputId": "7df49636-789d-4467-cbe6-aeac8eb34f29"
      },
      "execution_count": null,
      "outputs": [
        {
          "output_type": "stream",
          "name": "stdout",
          "text": [
            "Features prepared: (299, 7)\n"
          ]
        }
      ]
    },
    {
      "cell_type": "code",
      "source": [
        "# ==============================\n",
        "# Step 5: Train-Test Split\n",
        "# ==============================\n",
        "from sklearn.model_selection import train_test_split\n",
        "\n",
        "# Split dataset into 80% training and 20% testing\n",
        "X_train, X_test, y_train, y_test = train_test_split(\n",
        "    X_scaled, y, test_size=0.2, random_state=42\n",
        ")\n",
        "\n",
        "print(\"Train size:\", X_train.shape, \"Test size:\", X_test.shape)"
      ],
      "metadata": {
        "colab": {
          "base_uri": "https://localhost:8080/"
        },
        "id": "8-f4ldmJKWK-",
        "outputId": "3b12ffef-0dd5-4239-f553-6c2a54d9cb6f"
      },
      "execution_count": null,
      "outputs": [
        {
          "output_type": "stream",
          "name": "stdout",
          "text": [
            "Train size: (239, 7) Test size: (60, 7)\n"
          ]
        }
      ]
    },
    {
      "cell_type": "code",
      "source": [
        "# ==============================\n",
        "# Step 6: Train Models\n",
        "# ==============================\n",
        "from sklearn.linear_model import LinearRegression\n",
        "from sklearn.ensemble import RandomForestRegressor\n",
        "\n",
        "# Train Linear Regression model\n",
        "lr = LinearRegression()\n",
        "lr.fit(X_train, y_train)\n",
        "\n",
        "# Predictions using Linear Regression\n",
        "y_pred_lr = lr.predict(X_test)\n",
        "\n",
        "# Train Random Forest model\n",
        "rf = RandomForestRegressor(n_estimators=100, random_state=42)\n",
        "rf.fit(X_train, y_train)\n",
        "\n",
        "# Predictions using Random Forest\n",
        "y_pred_rf = rf.predict(X_test)\n",
        "\n",
        "\n"
      ],
      "metadata": {
        "id": "ibr5QzNcKXzy"
      },
      "execution_count": null,
      "outputs": []
    },
    {
      "cell_type": "code",
      "source": [
        "# ==============================\n",
        "# Step 7: Model Evaluation\n",
        "# ==============================\n",
        "from sklearn.metrics import mean_absolute_error, mean_squared_error, r2_score\n",
        "import numpy as np\n",
        "\n",
        "# Function to evaluate and print performance of models\n",
        "def evaluate(y_true, y_pred, model_name):\n",
        "    print(f\"\\n{model_name} Performance:\")\n",
        "    print(\"MAE :\", mean_absolute_error(y_true, y_pred))   # Mean Absolute Error\n",
        "    print(\"RMSE:\", np.sqrt(mean_squared_error(y_true, y_pred)))  # Root Mean Squared Error\n",
        "    print(\"R2 Score:\", r2_score(y_true, y_pred))  # R² Score (closer to 1 is better)\n",
        "# Evaluate both models\n",
        "evaluate(y_test, y_pred_lr, \"Linear Regression\")\n",
        "evaluate(y_test, y_pred_rf, \"Random Forest\")"
      ],
      "metadata": {
        "colab": {
          "base_uri": "https://localhost:8080/"
        },
        "id": "Yfu2-NaULThM",
        "outputId": "75f9678d-1137-4f25-f2d0-9fac3ad6317b"
      },
      "execution_count": null,
      "outputs": [
        {
          "output_type": "stream",
          "name": "stdout",
          "text": [
            "\n",
            "Linear Regression Performance:\n",
            "MAE : 1.5291782906610039\n",
            "RMSE: 2.5489458270376524\n",
            "R2 Score: 0.7479122055581031\n",
            "\n",
            "Random Forest Performance:\n",
            "MAE : 1.3998016666666675\n",
            "RMSE: 3.2993603167634387\n",
            "R2 Score: 0.577632881473289\n"
          ]
        }
      ]
    },
    {
      "cell_type": "code",
      "source": [
        "# ==============================\n",
        "# Step 8: Visualization\n",
        "# ==============================\n",
        "import matplotlib.pyplot as plt\n",
        "\n",
        "# Scatter plot for Actual vs Predicted Prices (using Random Forest)\n",
        "plt.figure(figsize=(6,6))\n",
        "plt.scatter(y_test, y_pred_rf, alpha=0.5, color='blue')\n",
        "plt.xlabel(\"Actual Price\")\n",
        "plt.ylabel(\"Predicted Price\")\n",
        "plt.title(\"Actual vs Predicted Car Prices (Random Forest)\")\n",
        "plt.show()"
      ],
      "metadata": {
        "colab": {
          "base_uri": "https://localhost:8080/",
          "height": 564
        },
        "id": "EkToDfTELV52",
        "outputId": "b7569c8c-f6b1-4d5a-b2b4-9168f0e1a121"
      },
      "execution_count": null,
      "outputs": [
        {
          "output_type": "display_data",
          "data": {
            "text/plain": [
              "<Figure size 600x600 with 1 Axes>"
            ],
            "image/png": "[encoded data removed]"
          },
          "metadata": {}
        }
      ]
    },
    {
      "cell_type": "code",
      "source": [],
      "metadata": {
        "id": "Twnxkd92LboR"
      },
      "execution_count": null,
      "outputs": []
    }
  ]
}